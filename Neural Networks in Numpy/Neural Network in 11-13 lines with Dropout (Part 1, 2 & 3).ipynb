{
 "cells": [
  {
   "cell_type": "code",
   "execution_count": 39,
   "metadata": {
    "collapsed": true
   },
   "outputs": [],
   "source": [
    "import numpy as np\n",
    "import matplotlib.pyplot as plt"
   ]
  },
  {
   "cell_type": "markdown",
   "metadata": {},
   "source": [
    "# Part 1 "
   ]
  },
  {
   "cell_type": "markdown",
   "metadata": {},
   "source": [
    "## Reference Post: http://iamtrask.github.io/2015/07/12/basic-python-network/ "
   ]
  },
  {
   "cell_type": "markdown",
   "metadata": {},
   "source": [
    "### 2 layer "
   ]
  },
  {
   "cell_type": "code",
   "execution_count": 8,
   "metadata": {},
   "outputs": [
    {
     "name": "stdout",
     "output_type": "stream",
     "text": [
      "[[ 0.00640996]\n",
      " [ 0.9903323 ]\n",
      " [ 0.99213561]\n",
      " [ 0.00788241]]\n"
     ]
    }
   ],
   "source": [
    "# 4 input samples with 3 independent variables\n",
    "X = np.array([[0, 1, 1],\n",
    "             [0, 0, 1],\n",
    "             [1, 0, 1],\n",
    "             [1, 1, 1]])\n",
    "\n",
    "# Respective outputs\n",
    "Y = np.array([[0],\n",
    "             [1],\n",
    "             [1],\n",
    "             [0]])\n",
    "\n",
    "def nonlin(x, deriv=False):\n",
    "    if deriv:\n",
    "        return x*(1-x)\n",
    "    return 1/(1+np.exp(-x))\n",
    "\n",
    "# Weights - Randomly inialize between -1 and 1\n",
    "syn0 = 2*np.random.random((3,1)) - 1\n",
    "\n",
    "for _ in range(10000):\n",
    "    l0 = X\n",
    "    l1 = nonlin(np.dot(l0,syn0))\n",
    "    l1_error = Y - l1\n",
    "    l1_delta = l1_error*nonlin(l1, True)\n",
    "    syn0 += np.dot(l0.T,l1_delta)\n",
    "    \n",
    "print(l1)"
   ]
  },
  {
   "cell_type": "markdown",
   "metadata": {},
   "source": [
    "### 3 layer "
   ]
  },
  {
   "cell_type": "code",
   "execution_count": 24,
   "metadata": {},
   "outputs": [
    {
     "name": "stdout",
     "output_type": "stream",
     "text": [
      "Error = 0.500413401722\n",
      "Error = 0.010121486246\n",
      "Error = 0.00693148568147\n",
      "Error = 0.00557539809832\n",
      "Error = 0.00478311544459\n",
      "Error = 0.00424934945418\n",
      "[[ 0.00244654]\n",
      " [ 0.99577047]\n",
      " [ 0.99623731]\n",
      " [ 0.0049973 ]]\n"
     ]
    }
   ],
   "source": [
    "# 4 input samples with 3 independent variables\n",
    "X = np.array([[0, 0, 1],\n",
    "             [0, 1, 1],\n",
    "             [1, 0, 1],\n",
    "             [1, 1, 1]])\n",
    "\n",
    "# Respective outputs\n",
    "Y = np.array([[0],\n",
    "             [1],\n",
    "             [1],\n",
    "             [0]])\n",
    "\n",
    "def nonlin(x, deriv=False):\n",
    "    if deriv:\n",
    "        return x*(1-x)\n",
    "    return 1/(1+np.exp(-x))\n",
    "\n",
    "# We'll insert 1 hidden layer with 4 neurons\n",
    "# Weights - Randomly inialize between -1 and 1\n",
    "syn0 = 2*np.random.random((3,4)) - 1\n",
    "syn1 = 2*np.random.random((4,1)) - 1\n",
    "\n",
    "for _ in range(60000):\n",
    "    \n",
    "    # Feed forward\n",
    "    l0 = X\n",
    "    l1 = nonlin(np.dot(l0,syn0))\n",
    "    l2 = nonlin(np.dot(l1,syn1))\n",
    "    \n",
    "    # Backprop\n",
    "    l2_error = Y - l2\n",
    "    \n",
    "    # Print error after 10000 steps\n",
    "    if (_%10000) == 0:\n",
    "        print('Error =', np.mean(np.abs(l2_error)))\n",
    "        \n",
    "    l2_delta = l2_error*nonlin(l2, True)\n",
    "    l1_error = l2_delta.dot(syn1.T)\n",
    "    l1_delta = l1_error*nonlin(l1, True)\n",
    "    \n",
    "    syn1 += np.dot(l1.T,l2_delta)\n",
    "    syn0 += np.dot(l0.T,l1_delta)\n",
    "    \n",
    "print(l2)"
   ]
  },
  {
   "cell_type": "markdown",
   "metadata": {},
   "source": [
    "# Part 2 "
   ]
  },
  {
   "cell_type": "markdown",
   "metadata": {},
   "source": [
    "\n",
    "## Reference Post: http://iamtrask.github.io/2015/07/27/python-network-part2/"
   ]
  },
  {
   "cell_type": "markdown",
   "metadata": {},
   "source": [
    "#### Training with a learning rate"
   ]
  },
  {
   "cell_type": "code",
   "execution_count": 97,
   "metadata": {},
   "outputs": [
    {
     "name": "stdout",
     "output_type": "stream",
     "text": [
      "\n",
      "Training with learning rate: 0.001\n",
      "Error after 0 iterations: 0.496410031903\n",
      "Error after 10000 iterations: 0.495164025493\n",
      "Error after 20000 iterations: 0.493596043188\n",
      "Error after 30000 iterations: 0.491606358559\n",
      "Error after 40000 iterations: 0.489100166544\n",
      "Error after 50000 iterations: 0.485977857846\n",
      "\n",
      "Training with learning rate: 0.01\n",
      "Error after 0 iterations: 0.496410031903\n",
      "Error after 10000 iterations: 0.457431074442\n",
      "Error after 20000 iterations: 0.359097202563\n",
      "Error after 30000 iterations: 0.239358137159\n",
      "Error after 40000 iterations: 0.143070659013\n",
      "Error after 50000 iterations: 0.0985964298089\n",
      "\n",
      "Training with learning rate: 0.1\n",
      "Error after 0 iterations: 0.496410031903\n",
      "Error after 10000 iterations: 0.0428880170001\n",
      "Error after 20000 iterations: 0.0240989942285\n",
      "Error after 30000 iterations: 0.0181106521468\n",
      "Error after 40000 iterations: 0.0149876162722\n",
      "Error after 50000 iterations: 0.0130144905381\n",
      "\n",
      "Training with learning rate: 1\n",
      "Error after 0 iterations: 0.496410031903\n",
      "Error after 10000 iterations: 0.00858452565325\n",
      "Error after 20000 iterations: 0.00578945986251\n",
      "Error after 30000 iterations: 0.00462917677677\n",
      "Error after 40000 iterations: 0.00395876528027\n",
      "Error after 50000 iterations: 0.00351012256786\n",
      "\n",
      "Training with learning rate: 10\n",
      "Error after 0 iterations: 0.496410031903\n",
      "Error after 10000 iterations: 0.00312938876301\n",
      "Error after 20000 iterations: 0.00214459557985\n",
      "Error after 30000 iterations: 0.00172397549956\n",
      "Error after 40000 iterations: 0.00147821451229\n",
      "Error after 50000 iterations: 0.00131274062834\n",
      "\n",
      "Training with learning rate: 100\n",
      "Error after 0 iterations: 0.496410031903\n",
      "Error after 10000 iterations: 0.125476983834\n",
      "Error after 20000 iterations: 0.12533033354\n",
      "Error after 30000 iterations: 0.125267728794\n",
      "Error after 40000 iterations: 0.1252310737\n",
      "Error after 50000 iterations: 0.125206352804\n",
      "\n",
      "Training with learning rate: 1000\n",
      "Error after 0 iterations: 0.496410031903\n",
      "Error after 10000 iterations: 0.5\n",
      "Error after 20000 iterations: 0.5\n",
      "Error after 30000 iterations: 0.5\n",
      "Error after 40000 iterations: 0.5\n",
      "Error after 50000 iterations: 0.5\n"
     ]
    }
   ],
   "source": [
    "# Learning Rates\n",
    "alphas = [0.001, 0.01, 0.1, 1, 10, 100, 1000]\n",
    "\n",
    "# 4 input samples with 3 independent variables\n",
    "X = np.array([[0, 0, 1],\n",
    "             [0, 1, 1],\n",
    "             [1, 0, 1],\n",
    "             [1, 1, 1]])\n",
    "\n",
    "# Respective outputs\n",
    "Y = np.array([[0],\n",
    "             [1],\n",
    "             [1],\n",
    "             [0]])\n",
    "\n",
    "def nonlin(x, deriv=False):\n",
    "    if deriv:\n",
    "        return x*(1-x)\n",
    "    return 1/(1+np.exp(-x))\n",
    "\n",
    "for lR in alphas:\n",
    "    print('\\nTraining with learning rate:', lR)\n",
    "    error_lR = []\n",
    "    np.random.seed(1)\n",
    "    # We'll insert 1 hidden layer with 4 neurons\n",
    "    # Weights - Randomly inialize between -1 and 1\n",
    "    syn0 = 2*np.random.random((3,4)) - 1\n",
    "    syn1 = 2*np.random.random((4,1)) - 1\n",
    "\n",
    "    for _ in range(60000):\n",
    "\n",
    "        # Feed forward\n",
    "        l0 = X\n",
    "        l1 = nonlin(np.dot(l0,syn0))\n",
    "        l2 = nonlin(np.dot(l1,syn1))\n",
    "\n",
    "        # Backprop\n",
    "        l2_error = Y - l2\n",
    "        error_lR.append(np.mean(np.abs(l2_error)))\n",
    "        \n",
    "        # Print error after 10000 steps\n",
    "        if (_%10000) == 0:\n",
    "            print('Error after', str(_), 'iterations:', np.mean(np.abs(l2_error)))\n",
    "            \n",
    "        l2_delta = l2_error*nonlin(l2, True)\n",
    "        l1_error = l2_delta.dot(syn1.T)\n",
    "        l1_delta = l1_error*nonlin(l1, True)\n",
    "\n",
    "        syn1 += lR*np.dot(l1.T,l2_delta)\n",
    "        syn0 += lR*np.dot(l0.T,l1_delta)\n",
    "        \n",
    "    plt.plot(error_lR, label = str(lR))"
   ]
  },
  {
   "cell_type": "code",
   "execution_count": 98,
   "metadata": {},
   "outputs": [
    {
     "data": {
      "image/png": "[encoded data removed]",
      "text/plain": [
       "<matplotlib.figure.Figure at 0x7fdaf8d0c0f0>"
      ]
     },
     "metadata": {},
     "output_type": "display_data"
    }
   ],
   "source": [
    "plt.legend()\n",
    "plt.show()"
   ]
  },
  {
   "cell_type": "markdown",
   "metadata": {},
   "source": [
    "# Part 3 "
   ]
  },
  {
   "cell_type": "markdown",
   "metadata": {},
   "source": [
    "## Reference Post: http://iamtrask.github.io/2015/07/28/dropout/"
   ]
  },
  {
   "cell_type": "code",
   "execution_count": 100,
   "metadata": {},
   "outputs": [
    {
     "name": "stdout",
     "output_type": "stream",
     "text": [
      "Error after 0 iterations: 0.494422101748\n",
      "Error after 10000 iterations: 0.154006413707\n",
      "Error after 20000 iterations: 0.173787503797\n",
      "Error after 30000 iterations: 0.026317371938\n",
      "Error after 40000 iterations: 0.269626706786\n",
      "Error after 50000 iterations: 0.26813537202\n"
     ]
    },
    {
     "data": {
      "image/png": "[encoded data removed]",
      "text/plain": [
       "<matplotlib.figure.Figure at 0x7fdaf8c3c128>"
      ]
     },
     "metadata": {},
     "output_type": "display_data"
    }
   ],
   "source": [
    "# Learning Rates\n",
    "alpha, hidden_num, drop_percent, do_dropout = 0.5, 4, 0.2, True \n",
    "\n",
    "# 4 input samples with 3 independent variables\n",
    "X = np.array([[0, 0, 1],\n",
    "             [0, 1, 1],\n",
    "             [1, 0, 1],\n",
    "             [1, 1, 1]])\n",
    "\n",
    "# Respective outputs\n",
    "Y = np.array([[0],\n",
    "             [1],\n",
    "             [1],\n",
    "             [0]])\n",
    "\n",
    "def nonlin(x, deriv=False):\n",
    "    if deriv:\n",
    "        return x*(1-x)\n",
    "    return 1/(1+np.exp(-x))\n",
    "\n",
    "np.random.seed(1)\n",
    "# We'll insert 1 hidden layer with 4 neurons\n",
    "# Weights - Randomly inialize between -1 and 1\n",
    "syn0 = 2*np.random.random((3,hidden_num)) - 1\n",
    "syn1 = 2*np.random.random((hidden_num,1)) - 1\n",
    "\n",
    "for _ in range(60000):\n",
    "\n",
    "    # Feed forward\n",
    "    l0 = X\n",
    "    l1 = nonlin(np.dot(l0,syn0))\n",
    "\n",
    "    # Adding dropout\n",
    "    if do_dropout:\n",
    "        l1 *= np.random.binomial([np.ones([len(l1), hidden_num])], 1-drop_percent)[0] * (1.0/(1-drop_percent))\n",
    "    \n",
    "    l2 = nonlin(np.dot(l1,syn1))\n",
    "\n",
    "    # Backprop\n",
    "    l2_error = Y - l2\n",
    "    error_lR.append(np.mean(np.abs(l2_error)))\n",
    "\n",
    "    # Print error after 10000 steps\n",
    "    if (_%10000) == 0:\n",
    "        print('Error after', str(_), 'iterations:', np.mean(np.abs(l2_error)))\n",
    "\n",
    "    l2_delta = l2_error*nonlin(l2, True)\n",
    "    l1_error = l2_delta.dot(syn1.T)\n",
    "    l1_delta = l1_error*nonlin(l1, True)\n",
    "\n",
    "    syn1 += alpha*np.dot(l1.T,l2_delta)\n",
    "    syn0 += alpha*np.dot(l0.T,l1_delta)\n",
    "\n",
    "plt.plot(error_lR, label = str(lR))\n",
    "plt.show()"
   ]
  }
 ],
 "metadata": {
  "kernelspec": {
   "display_name": "Python [conda env:deepLearn]",
   "language": "python",
   "name": "conda-env-deepLearn-py"
  },
  "language_info": {
   "codemirror_mode": {
    "name": "ipython",
    "version": 3
   },
   "file_extension": ".py",
   "mimetype": "text/x-python",
   "name": "python",
   "nbconvert_exporter": "python",
   "pygments_lexer": "ipython3",
   "version": "3.6.1"
  }
 },
 "nbformat": 4,
 "nbformat_minor": 2
}
